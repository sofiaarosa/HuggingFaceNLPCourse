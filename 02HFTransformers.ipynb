{
  "nbformat": 4,
  "nbformat_minor": 0,
  "metadata": {
    "colab": {
      "provenance": [],
      "authorship_tag": "ABX9TyP7gM4nfqRKiSuvN4+iSbV9",
      "include_colab_link": true
    },
    "kernelspec": {
      "name": "python3",
      "display_name": "Python 3"
    },
    "language_info": {
      "name": "python"
    },
    "widgets": {
      "application/vnd.jupyter.widget-state+json": {
        "183ed06bde0a49f7b67c1d962d62ae32": {
          "model_module": "@jupyter-widgets/controls",
          "model_name": "HBoxModel",
          "model_module_version": "1.5.0",
          "state": {
            "_dom_classes": [],
            "_model_module": "@jupyter-widgets/controls",
            "_model_module_version": "1.5.0",
            "_model_name": "HBoxModel",
            "_view_count": null,
            "_view_module": "@jupyter-widgets/controls",
            "_view_module_version": "1.5.0",
            "_view_name": "HBoxView",
            "box_style": "",
            "children": [
              "IPY_MODEL_f7661d8eb58a490688e7eafa1f43a85e",
              "IPY_MODEL_ce3692849a6240b8a480b58017f4ca88",
              "IPY_MODEL_9b2ecf022fd44bd4b7e67495a411652d"
            ],
            "layout": "IPY_MODEL_4f2a0b3096e740d4bba027417f1cdc8d"
          }
        },
        "f7661d8eb58a490688e7eafa1f43a85e": {
          "model_module": "@jupyter-widgets/controls",
          "model_name": "HTMLModel",
          "model_module_version": "1.5.0",
          "state": {
            "_dom_classes": [],
            "_model_module": "@jupyter-widgets/controls",
            "_model_module_version": "1.5.0",
            "_model_name": "HTMLModel",
            "_view_count": null,
            "_view_module": "@jupyter-widgets/controls",
            "_view_module_version": "1.5.0",
            "_view_name": "HTMLView",
            "description": "",
            "description_tooltip": null,
            "layout": "IPY_MODEL_d2c1789f0feb44d0824e511c434e0c31",
            "placeholder": "​",
            "style": "IPY_MODEL_12c7d6fae8f648f0ae26154e33bc81df",
            "value": "tokenizer_config.json: 100%"
          }
        },
        "ce3692849a6240b8a480b58017f4ca88": {
          "model_module": "@jupyter-widgets/controls",
          "model_name": "FloatProgressModel",
          "model_module_version": "1.5.0",
          "state": {
            "_dom_classes": [],
            "_model_module": "@jupyter-widgets/controls",
            "_model_module_version": "1.5.0",
            "_model_name": "FloatProgressModel",
            "_view_count": null,
            "_view_module": "@jupyter-widgets/controls",
            "_view_module_version": "1.5.0",
            "_view_name": "ProgressView",
            "bar_style": "success",
            "description": "",
            "description_tooltip": null,
            "layout": "IPY_MODEL_d8bc3960e0a544b6aaa500a36f09a8ca",
            "max": 48,
            "min": 0,
            "orientation": "horizontal",
            "style": "IPY_MODEL_0dd4c372f3b0442fae63ca339c91672c",
            "value": 48
          }
        },
        "9b2ecf022fd44bd4b7e67495a411652d": {
          "model_module": "@jupyter-widgets/controls",
          "model_name": "HTMLModel",
          "model_module_version": "1.5.0",
          "state": {
            "_dom_classes": [],
            "_model_module": "@jupyter-widgets/controls",
            "_model_module_version": "1.5.0",
            "_model_name": "HTMLModel",
            "_view_count": null,
            "_view_module": "@jupyter-widgets/controls",
            "_view_module_version": "1.5.0",
            "_view_name": "HTMLView",
            "description": "",
            "description_tooltip": null,
            "layout": "IPY_MODEL_f793f164607a47dca11c4b43de55ad1c",
            "placeholder": "​",
            "style": "IPY_MODEL_3102bb2879c44298b8c215a6e770f7e4",
            "value": " 48.0/48.0 [00:00&lt;00:00, 1.87kB/s]"
          }
        },
        "4f2a0b3096e740d4bba027417f1cdc8d": {
          "model_module": "@jupyter-widgets/base",
          "model_name": "LayoutModel",
          "model_module_version": "1.2.0",
          "state": {
            "_model_module": "@jupyter-widgets/base",
            "_model_module_version": "1.2.0",
            "_model_name": "LayoutModel",
            "_view_count": null,
            "_view_module": "@jupyter-widgets/base",
            "_view_module_version": "1.2.0",
            "_view_name": "LayoutView",
            "align_content": null,
            "align_items": null,
            "align_self": null,
            "border": null,
            "bottom": null,
            "display": null,
            "flex": null,
            "flex_flow": null,
            "grid_area": null,
            "grid_auto_columns": null,
            "grid_auto_flow": null,
            "grid_auto_rows": null,
            "grid_column": null,
            "grid_gap": null,
            "grid_row": null,
            "grid_template_areas": null,
            "grid_template_columns": null,
            "grid_template_rows": null,
            "height": null,
            "justify_content": null,
            "justify_items": null,
            "left": null,
            "margin": null,
            "max_height": null,
            "max_width": null,
            "min_height": null,
            "min_width": null,
            "object_fit": null,
            "object_position": null,
            "order": null,
            "overflow": null,
            "overflow_x": null,
            "overflow_y": null,
            "padding": null,
            "right": null,
            "top": null,
            "visibility": null,
            "width": null
          }
        },
        "d2c1789f0feb44d0824e511c434e0c31": {
          "model_module": "@jupyter-widgets/base",
          "model_name": "LayoutModel",
          "model_module_version": "1.2.0",
          "state": {
            "_model_module": "@jupyter-widgets/base",
            "_model_module_version": "1.2.0",
            "_model_name": "LayoutModel",
            "_view_count": null,
            "_view_module": "@jupyter-widgets/base",
            "_view_module_version": "1.2.0",
            "_view_name": "LayoutView",
            "align_content": null,
            "align_items": null,
            "align_self": null,
            "border": null,
            "bottom": null,
            "display": null,
            "flex": null,
            "flex_flow": null,
            "grid_area": null,
            "grid_auto_columns": null,
            "grid_auto_flow": null,
            "grid_auto_rows": null,
            "grid_column": null,
            "grid_gap": null,
            "grid_row": null,
            "grid_template_areas": null,
            "grid_template_columns": null,
            "grid_template_rows": null,
            "height": null,
            "justify_content": null,
            "justify_items": null,
            "left": null,
            "margin": null,
            "max_height": null,
            "max_width": null,
            "min_height": null,
            "min_width": null,
            "object_fit": null,
            "object_position": null,
            "order": null,
            "overflow": null,
            "overflow_x": null,
            "overflow_y": null,
            "padding": null,
            "right": null,
            "top": null,
            "visibility": null,
            "width": null
          }
        },
        "12c7d6fae8f648f0ae26154e33bc81df": {
          "model_module": "@jupyter-widgets/controls",
          "model_name": "DescriptionStyleModel",
          "model_module_version": "1.5.0",
          "state": {
            "_model_module": "@jupyter-widgets/controls",
            "_model_module_version": "1.5.0",
            "_model_name": "DescriptionStyleModel",
            "_view_count": null,
            "_view_module": "@jupyter-widgets/base",
            "_view_module_version": "1.2.0",
            "_view_name": "StyleView",
            "description_width": ""
          }
        },
        "d8bc3960e0a544b6aaa500a36f09a8ca": {
          "model_module": "@jupyter-widgets/base",
          "model_name": "LayoutModel",
          "model_module_version": "1.2.0",
          "state": {
            "_model_module": "@jupyter-widgets/base",
            "_model_module_version": "1.2.0",
            "_model_name": "LayoutModel",
            "_view_count": null,
            "_view_module": "@jupyter-widgets/base",
            "_view_module_version": "1.2.0",
            "_view_name": "LayoutView",
            "align_content": null,
            "align_items": null,
            "align_self": null,
            "border": null,
            "bottom": null,
            "display": null,
            "flex": null,
            "flex_flow": null,
            "grid_area": null,
            "grid_auto_columns": null,
            "grid_auto_flow": null,
            "grid_auto_rows": null,
            "grid_column": null,
            "grid_gap": null,
            "grid_row": null,
            "grid_template_areas": null,
            "grid_template_columns": null,
            "grid_template_rows": null,
            "height": null,
            "justify_content": null,
            "justify_items": null,
            "left": null,
            "margin": null,
            "max_height": null,
            "max_width": null,
            "min_height": null,
            "min_width": null,
            "object_fit": null,
            "object_position": null,
            "order": null,
            "overflow": null,
            "overflow_x": null,
            "overflow_y": null,
            "padding": null,
            "right": null,
            "top": null,
            "visibility": null,
            "width": null
          }
        },
        "0dd4c372f3b0442fae63ca339c91672c": {
          "model_module": "@jupyter-widgets/controls",
          "model_name": "ProgressStyleModel",
          "model_module_version": "1.5.0",
          "state": {
            "_model_module": "@jupyter-widgets/controls",
            "_model_module_version": "1.5.0",
            "_model_name": "ProgressStyleModel",
            "_view_count": null,
            "_view_module": "@jupyter-widgets/base",
            "_view_module_version": "1.2.0",
            "_view_name": "StyleView",
            "bar_color": null,
            "description_width": ""
          }
        },
        "f793f164607a47dca11c4b43de55ad1c": {
          "model_module": "@jupyter-widgets/base",
          "model_name": "LayoutModel",
          "model_module_version": "1.2.0",
          "state": {
            "_model_module": "@jupyter-widgets/base",
            "_model_module_version": "1.2.0",
            "_model_name": "LayoutModel",
            "_view_count": null,
            "_view_module": "@jupyter-widgets/base",
            "_view_module_version": "1.2.0",
            "_view_name": "LayoutView",
            "align_content": null,
            "align_items": null,
            "align_self": null,
            "border": null,
            "bottom": null,
            "display": null,
            "flex": null,
            "flex_flow": null,
            "grid_area": null,
            "grid_auto_columns": null,
            "grid_auto_flow": null,
            "grid_auto_rows": null,
            "grid_column": null,
            "grid_gap": null,
            "grid_row": null,
            "grid_template_areas": null,
            "grid_template_columns": null,
            "grid_template_rows": null,
            "height": null,
            "justify_content": null,
            "justify_items": null,
            "left": null,
            "margin": null,
            "max_height": null,
            "max_width": null,
            "min_height": null,
            "min_width": null,
            "object_fit": null,
            "object_position": null,
            "order": null,
            "overflow": null,
            "overflow_x": null,
            "overflow_y": null,
            "padding": null,
            "right": null,
            "top": null,
            "visibility": null,
            "width": null
          }
        },
        "3102bb2879c44298b8c215a6e770f7e4": {
          "model_module": "@jupyter-widgets/controls",
          "model_name": "DescriptionStyleModel",
          "model_module_version": "1.5.0",
          "state": {
            "_model_module": "@jupyter-widgets/controls",
            "_model_module_version": "1.5.0",
            "_model_name": "DescriptionStyleModel",
            "_view_count": null,
            "_view_module": "@jupyter-widgets/base",
            "_view_module_version": "1.2.0",
            "_view_name": "StyleView",
            "description_width": ""
          }
        },
        "e1fa48727a5847f4b826815738d9b7ac": {
          "model_module": "@jupyter-widgets/controls",
          "model_name": "HBoxModel",
          "model_module_version": "1.5.0",
          "state": {
            "_dom_classes": [],
            "_model_module": "@jupyter-widgets/controls",
            "_model_module_version": "1.5.0",
            "_model_name": "HBoxModel",
            "_view_count": null,
            "_view_module": "@jupyter-widgets/controls",
            "_view_module_version": "1.5.0",
            "_view_name": "HBoxView",
            "box_style": "",
            "children": [
              "IPY_MODEL_c57cbf9ce6ce4e8ab36071a56528cac8",
              "IPY_MODEL_80cfd5a928914bb788dae8ab2c986803",
              "IPY_MODEL_ed1e93209e204a4d928cb2f896d6482b"
            ],
            "layout": "IPY_MODEL_bc2fc00018614e088637a85c0a2af62c"
          }
        },
        "c57cbf9ce6ce4e8ab36071a56528cac8": {
          "model_module": "@jupyter-widgets/controls",
          "model_name": "HTMLModel",
          "model_module_version": "1.5.0",
          "state": {
            "_dom_classes": [],
            "_model_module": "@jupyter-widgets/controls",
            "_model_module_version": "1.5.0",
            "_model_name": "HTMLModel",
            "_view_count": null,
            "_view_module": "@jupyter-widgets/controls",
            "_view_module_version": "1.5.0",
            "_view_name": "HTMLView",
            "description": "",
            "description_tooltip": null,
            "layout": "IPY_MODEL_4ed4e7595d2c4c6c9f2d6fd1e2dbf5cb",
            "placeholder": "​",
            "style": "IPY_MODEL_da1ef81dbbb0439eaf2b26ea067a87af",
            "value": "config.json: 100%"
          }
        },
        "80cfd5a928914bb788dae8ab2c986803": {
          "model_module": "@jupyter-widgets/controls",
          "model_name": "FloatProgressModel",
          "model_module_version": "1.5.0",
          "state": {
            "_dom_classes": [],
            "_model_module": "@jupyter-widgets/controls",
            "_model_module_version": "1.5.0",
            "_model_name": "FloatProgressModel",
            "_view_count": null,
            "_view_module": "@jupyter-widgets/controls",
            "_view_module_version": "1.5.0",
            "_view_name": "ProgressView",
            "bar_style": "success",
            "description": "",
            "description_tooltip": null,
            "layout": "IPY_MODEL_395bcb67d0e548ae8e5e5ed12738110c",
            "max": 629,
            "min": 0,
            "orientation": "horizontal",
            "style": "IPY_MODEL_5c8da9ec3675466dbb4dff593f2e9168",
            "value": 629
          }
        },
        "ed1e93209e204a4d928cb2f896d6482b": {
          "model_module": "@jupyter-widgets/controls",
          "model_name": "HTMLModel",
          "model_module_version": "1.5.0",
          "state": {
            "_dom_classes": [],
            "_model_module": "@jupyter-widgets/controls",
            "_model_module_version": "1.5.0",
            "_model_name": "HTMLModel",
            "_view_count": null,
            "_view_module": "@jupyter-widgets/controls",
            "_view_module_version": "1.5.0",
            "_view_name": "HTMLView",
            "description": "",
            "description_tooltip": null,
            "layout": "IPY_MODEL_b761b10767194c318c7d85ddfbe71b5b",
            "placeholder": "​",
            "style": "IPY_MODEL_936131d173144251ac8650cdffe43b11",
            "value": " 629/629 [00:00&lt;00:00, 38.6kB/s]"
          }
        },
        "bc2fc00018614e088637a85c0a2af62c": {
          "model_module": "@jupyter-widgets/base",
          "model_name": "LayoutModel",
          "model_module_version": "1.2.0",
          "state": {
            "_model_module": "@jupyter-widgets/base",
            "_model_module_version": "1.2.0",
            "_model_name": "LayoutModel",
            "_view_count": null,
            "_view_module": "@jupyter-widgets/base",
            "_view_module_version": "1.2.0",
            "_view_name": "LayoutView",
            "align_content": null,
            "align_items": null,
            "align_self": null,
            "border": null,
            "bottom": null,
            "display": null,
            "flex": null,
            "flex_flow": null,
            "grid_area": null,
            "grid_auto_columns": null,
            "grid_auto_flow": null,
            "grid_auto_rows": null,
            "grid_column": null,
            "grid_gap": null,
            "grid_row": null,
            "grid_template_areas": null,
            "grid_template_columns": null,
            "grid_template_rows": null,
            "height": null,
            "justify_content": null,
            "justify_items": null,
            "left": null,
            "margin": null,
            "max_height": null,
            "max_width": null,
            "min_height": null,
            "min_width": null,
            "object_fit": null,
            "object_position": null,
            "order": null,
            "overflow": null,
            "overflow_x": null,
            "overflow_y": null,
            "padding": null,
            "right": null,
            "top": null,
            "visibility": null,
            "width": null
          }
        },
        "4ed4e7595d2c4c6c9f2d6fd1e2dbf5cb": {
          "model_module": "@jupyter-widgets/base",
          "model_name": "LayoutModel",
          "model_module_version": "1.2.0",
          "state": {
            "_model_module": "@jupyter-widgets/base",
            "_model_module_version": "1.2.0",
            "_model_name": "LayoutModel",
            "_view_count": null,
            "_view_module": "@jupyter-widgets/base",
            "_view_module_version": "1.2.0",
            "_view_name": "LayoutView",
            "align_content": null,
            "align_items": null,
            "align_self": null,
            "border": null,
            "bottom": null,
            "display": null,
            "flex": null,
            "flex_flow": null,
            "grid_area": null,
            "grid_auto_columns": null,
            "grid_auto_flow": null,
            "grid_auto_rows": null,
            "grid_column": null,
            "grid_gap": null,
            "grid_row": null,
            "grid_template_areas": null,
            "grid_template_columns": null,
            "grid_template_rows": null,
            "height": null,
            "justify_content": null,
            "justify_items": null,
            "left": null,
            "margin": null,
            "max_height": null,
            "max_width": null,
            "min_height": null,
            "min_width": null,
            "object_fit": null,
            "object_position": null,
            "order": null,
            "overflow": null,
            "overflow_x": null,
            "overflow_y": null,
            "padding": null,
            "right": null,
            "top": null,
            "visibility": null,
            "width": null
          }
        },
        "da1ef81dbbb0439eaf2b26ea067a87af": {
          "model_module": "@jupyter-widgets/controls",
          "model_name": "DescriptionStyleModel",
          "model_module_version": "1.5.0",
          "state": {
            "_model_module": "@jupyter-widgets/controls",
            "_model_module_version": "1.5.0",
            "_model_name": "DescriptionStyleModel",
            "_view_count": null,
            "_view_module": "@jupyter-widgets/base",
            "_view_module_version": "1.2.0",
            "_view_name": "StyleView",
            "description_width": ""
          }
        },
        "395bcb67d0e548ae8e5e5ed12738110c": {
          "model_module": "@jupyter-widgets/base",
          "model_name": "LayoutModel",
          "model_module_version": "1.2.0",
          "state": {
            "_model_module": "@jupyter-widgets/base",
            "_model_module_version": "1.2.0",
            "_model_name": "LayoutModel",
            "_view_count": null,
            "_view_module": "@jupyter-widgets/base",
            "_view_module_version": "1.2.0",
            "_view_name": "LayoutView",
            "align_content": null,
            "align_items": null,
            "align_self": null,
            "border": null,
            "bottom": null,
            "display": null,
            "flex": null,
            "flex_flow": null,
            "grid_area": null,
            "grid_auto_columns": null,
            "grid_auto_flow": null,
            "grid_auto_rows": null,
            "grid_column": null,
            "grid_gap": null,
            "grid_row": null,
            "grid_template_areas": null,
            "grid_template_columns": null,
            "grid_template_rows": null,
            "height": null,
            "justify_content": null,
            "justify_items": null,
            "left": null,
            "margin": null,
            "max_height": null,
            "max_width": null,
            "min_height": null,
            "min_width": null,
            "object_fit": null,
            "object_position": null,
            "order": null,
            "overflow": null,
            "overflow_x": null,
            "overflow_y": null,
            "padding": null,
            "right": null,
            "top": null,
            "visibility": null,
            "width": null
          }
        },
        "5c8da9ec3675466dbb4dff593f2e9168": {
          "model_module": "@jupyter-widgets/controls",
          "model_name": "ProgressStyleModel",
          "model_module_version": "1.5.0",
          "state": {
            "_model_module": "@jupyter-widgets/controls",
            "_model_module_version": "1.5.0",
            "_model_name": "ProgressStyleModel",
            "_view_count": null,
            "_view_module": "@jupyter-widgets/base",
            "_view_module_version": "1.2.0",
            "_view_name": "StyleView",
            "bar_color": null,
            "description_width": ""
          }
        },
        "b761b10767194c318c7d85ddfbe71b5b": {
          "model_module": "@jupyter-widgets/base",
          "model_name": "LayoutModel",
          "model_module_version": "1.2.0",
          "state": {
            "_model_module": "@jupyter-widgets/base",
            "_model_module_version": "1.2.0",
            "_model_name": "LayoutModel",
            "_view_count": null,
            "_view_module": "@jupyter-widgets/base",
            "_view_module_version": "1.2.0",
            "_view_name": "LayoutView",
            "align_content": null,
            "align_items": null,
            "align_self": null,
            "border": null,
            "bottom": null,
            "display": null,
            "flex": null,
            "flex_flow": null,
            "grid_area": null,
            "grid_auto_columns": null,
            "grid_auto_flow": null,
            "grid_auto_rows": null,
            "grid_column": null,
            "grid_gap": null,
            "grid_row": null,
            "grid_template_areas": null,
            "grid_template_columns": null,
            "grid_template_rows": null,
            "height": null,
            "justify_content": null,
            "justify_items": null,
            "left": null,
            "margin": null,
            "max_height": null,
            "max_width": null,
            "min_height": null,
            "min_width": null,
            "object_fit": null,
            "object_position": null,
            "order": null,
            "overflow": null,
            "overflow_x": null,
            "overflow_y": null,
            "padding": null,
            "right": null,
            "top": null,
            "visibility": null,
            "width": null
          }
        },
        "936131d173144251ac8650cdffe43b11": {
          "model_module": "@jupyter-widgets/controls",
          "model_name": "DescriptionStyleModel",
          "model_module_version": "1.5.0",
          "state": {
            "_model_module": "@jupyter-widgets/controls",
            "_model_module_version": "1.5.0",
            "_model_name": "DescriptionStyleModel",
            "_view_count": null,
            "_view_module": "@jupyter-widgets/base",
            "_view_module_version": "1.2.0",
            "_view_name": "StyleView",
            "description_width": ""
          }
        },
        "11f418deb3da4d5c86081839b002921c": {
          "model_module": "@jupyter-widgets/controls",
          "model_name": "HBoxModel",
          "model_module_version": "1.5.0",
          "state": {
            "_dom_classes": [],
            "_model_module": "@jupyter-widgets/controls",
            "_model_module_version": "1.5.0",
            "_model_name": "HBoxModel",
            "_view_count": null,
            "_view_module": "@jupyter-widgets/controls",
            "_view_module_version": "1.5.0",
            "_view_name": "HBoxView",
            "box_style": "",
            "children": [
              "IPY_MODEL_806b1d888c5e46dcb09c370a436ce346",
              "IPY_MODEL_8c61225d9f9c43cbb962371a88da1692",
              "IPY_MODEL_78629482feb64ed7afd4c055f3f00356"
            ],
            "layout": "IPY_MODEL_7a6ec4e31d23423a999d8086b51aa8d9"
          }
        },
        "806b1d888c5e46dcb09c370a436ce346": {
          "model_module": "@jupyter-widgets/controls",
          "model_name": "HTMLModel",
          "model_module_version": "1.5.0",
          "state": {
            "_dom_classes": [],
            "_model_module": "@jupyter-widgets/controls",
            "_model_module_version": "1.5.0",
            "_model_name": "HTMLModel",
            "_view_count": null,
            "_view_module": "@jupyter-widgets/controls",
            "_view_module_version": "1.5.0",
            "_view_name": "HTMLView",
            "description": "",
            "description_tooltip": null,
            "layout": "IPY_MODEL_69c839c1f8b540ddb35dbf634443c3c8",
            "placeholder": "​",
            "style": "IPY_MODEL_cdeb0b408eb2465c96233f8c760a30d7",
            "value": "vocab.txt: 100%"
          }
        },
        "8c61225d9f9c43cbb962371a88da1692": {
          "model_module": "@jupyter-widgets/controls",
          "model_name": "FloatProgressModel",
          "model_module_version": "1.5.0",
          "state": {
            "_dom_classes": [],
            "_model_module": "@jupyter-widgets/controls",
            "_model_module_version": "1.5.0",
            "_model_name": "FloatProgressModel",
            "_view_count": null,
            "_view_module": "@jupyter-widgets/controls",
            "_view_module_version": "1.5.0",
            "_view_name": "ProgressView",
            "bar_style": "success",
            "description": "",
            "description_tooltip": null,
            "layout": "IPY_MODEL_525b6835d0e241c88bbbe0225587eeeb",
            "max": 231508,
            "min": 0,
            "orientation": "horizontal",
            "style": "IPY_MODEL_83d3297651234ade86bc5cbc78059eee",
            "value": 231508
          }
        },
        "78629482feb64ed7afd4c055f3f00356": {
          "model_module": "@jupyter-widgets/controls",
          "model_name": "HTMLModel",
          "model_module_version": "1.5.0",
          "state": {
            "_dom_classes": [],
            "_model_module": "@jupyter-widgets/controls",
            "_model_module_version": "1.5.0",
            "_model_name": "HTMLModel",
            "_view_count": null,
            "_view_module": "@jupyter-widgets/controls",
            "_view_module_version": "1.5.0",
            "_view_name": "HTMLView",
            "description": "",
            "description_tooltip": null,
            "layout": "IPY_MODEL_892d8efbdcc345378477089600ed6573",
            "placeholder": "​",
            "style": "IPY_MODEL_d2113cfc4e9741c98c84ce7d7c725dbc",
            "value": " 232k/232k [00:00&lt;00:00, 4.67MB/s]"
          }
        },
        "7a6ec4e31d23423a999d8086b51aa8d9": {
          "model_module": "@jupyter-widgets/base",
          "model_name": "LayoutModel",
          "model_module_version": "1.2.0",
          "state": {
            "_model_module": "@jupyter-widgets/base",
            "_model_module_version": "1.2.0",
            "_model_name": "LayoutModel",
            "_view_count": null,
            "_view_module": "@jupyter-widgets/base",
            "_view_module_version": "1.2.0",
            "_view_name": "LayoutView",
            "align_content": null,
            "align_items": null,
            "align_self": null,
            "border": null,
            "bottom": null,
            "display": null,
            "flex": null,
            "flex_flow": null,
            "grid_area": null,
            "grid_auto_columns": null,
            "grid_auto_flow": null,
            "grid_auto_rows": null,
            "grid_column": null,
            "grid_gap": null,
            "grid_row": null,
            "grid_template_areas": null,
            "grid_template_columns": null,
            "grid_template_rows": null,
            "height": null,
            "justify_content": null,
            "justify_items": null,
            "left": null,
            "margin": null,
            "max_height": null,
            "max_width": null,
            "min_height": null,
            "min_width": null,
            "object_fit": null,
            "object_position": null,
            "order": null,
            "overflow": null,
            "overflow_x": null,
            "overflow_y": null,
            "padding": null,
            "right": null,
            "top": null,
            "visibility": null,
            "width": null
          }
        },
        "69c839c1f8b540ddb35dbf634443c3c8": {
          "model_module": "@jupyter-widgets/base",
          "model_name": "LayoutModel",
          "model_module_version": "1.2.0",
          "state": {
            "_model_module": "@jupyter-widgets/base",
            "_model_module_version": "1.2.0",
            "_model_name": "LayoutModel",
            "_view_count": null,
            "_view_module": "@jupyter-widgets/base",
            "_view_module_version": "1.2.0",
            "_view_name": "LayoutView",
            "align_content": null,
            "align_items": null,
            "align_self": null,
            "border": null,
            "bottom": null,
            "display": null,
            "flex": null,
            "flex_flow": null,
            "grid_area": null,
            "grid_auto_columns": null,
            "grid_auto_flow": null,
            "grid_auto_rows": null,
            "grid_column": null,
            "grid_gap": null,
            "grid_row": null,
            "grid_template_areas": null,
            "grid_template_columns": null,
            "grid_template_rows": null,
            "height": null,
            "justify_content": null,
            "justify_items": null,
            "left": null,
            "margin": null,
            "max_height": null,
            "max_width": null,
            "min_height": null,
            "min_width": null,
            "object_fit": null,
            "object_position": null,
            "order": null,
            "overflow": null,
            "overflow_x": null,
            "overflow_y": null,
            "padding": null,
            "right": null,
            "top": null,
            "visibility": null,
            "width": null
          }
        },
        "cdeb0b408eb2465c96233f8c760a30d7": {
          "model_module": "@jupyter-widgets/controls",
          "model_name": "DescriptionStyleModel",
          "model_module_version": "1.5.0",
          "state": {
            "_model_module": "@jupyter-widgets/controls",
            "_model_module_version": "1.5.0",
            "_model_name": "DescriptionStyleModel",
            "_view_count": null,
            "_view_module": "@jupyter-widgets/base",
            "_view_module_version": "1.2.0",
            "_view_name": "StyleView",
            "description_width": ""
          }
        },
        "525b6835d0e241c88bbbe0225587eeeb": {
          "model_module": "@jupyter-widgets/base",
          "model_name": "LayoutModel",
          "model_module_version": "1.2.0",
          "state": {
            "_model_module": "@jupyter-widgets/base",
            "_model_module_version": "1.2.0",
            "_model_name": "LayoutModel",
            "_view_count": null,
            "_view_module": "@jupyter-widgets/base",
            "_view_module_version": "1.2.0",
            "_view_name": "LayoutView",
            "align_content": null,
            "align_items": null,
            "align_self": null,
            "border": null,
            "bottom": null,
            "display": null,
            "flex": null,
            "flex_flow": null,
            "grid_area": null,
            "grid_auto_columns": null,
            "grid_auto_flow": null,
            "grid_auto_rows": null,
            "grid_column": null,
            "grid_gap": null,
            "grid_row": null,
            "grid_template_areas": null,
            "grid_template_columns": null,
            "grid_template_rows": null,
            "height": null,
            "justify_content": null,
            "justify_items": null,
            "left": null,
            "margin": null,
            "max_height": null,
            "max_width": null,
            "min_height": null,
            "min_width": null,
            "object_fit": null,
            "object_position": null,
            "order": null,
            "overflow": null,
            "overflow_x": null,
            "overflow_y": null,
            "padding": null,
            "right": null,
            "top": null,
            "visibility": null,
            "width": null
          }
        },
        "83d3297651234ade86bc5cbc78059eee": {
          "model_module": "@jupyter-widgets/controls",
          "model_name": "ProgressStyleModel",
          "model_module_version": "1.5.0",
          "state": {
            "_model_module": "@jupyter-widgets/controls",
            "_model_module_version": "1.5.0",
            "_model_name": "ProgressStyleModel",
            "_view_count": null,
            "_view_module": "@jupyter-widgets/base",
            "_view_module_version": "1.2.0",
            "_view_name": "StyleView",
            "bar_color": null,
            "description_width": ""
          }
        },
        "892d8efbdcc345378477089600ed6573": {
          "model_module": "@jupyter-widgets/base",
          "model_name": "LayoutModel",
          "model_module_version": "1.2.0",
          "state": {
            "_model_module": "@jupyter-widgets/base",
            "_model_module_version": "1.2.0",
            "_model_name": "LayoutModel",
            "_view_count": null,
            "_view_module": "@jupyter-widgets/base",
            "_view_module_version": "1.2.0",
            "_view_name": "LayoutView",
            "align_content": null,
            "align_items": null,
            "align_self": null,
            "border": null,
            "bottom": null,
            "display": null,
            "flex": null,
            "flex_flow": null,
            "grid_area": null,
            "grid_auto_columns": null,
            "grid_auto_flow": null,
            "grid_auto_rows": null,
            "grid_column": null,
            "grid_gap": null,
            "grid_row": null,
            "grid_template_areas": null,
            "grid_template_columns": null,
            "grid_template_rows": null,
            "height": null,
            "justify_content": null,
            "justify_items": null,
            "left": null,
            "margin": null,
            "max_height": null,
            "max_width": null,
            "min_height": null,
            "min_width": null,
            "object_fit": null,
            "object_position": null,
            "order": null,
            "overflow": null,
            "overflow_x": null,
            "overflow_y": null,
            "padding": null,
            "right": null,
            "top": null,
            "visibility": null,
            "width": null
          }
        },
        "d2113cfc4e9741c98c84ce7d7c725dbc": {
          "model_module": "@jupyter-widgets/controls",
          "model_name": "DescriptionStyleModel",
          "model_module_version": "1.5.0",
          "state": {
            "_model_module": "@jupyter-widgets/controls",
            "_model_module_version": "1.5.0",
            "_model_name": "DescriptionStyleModel",
            "_view_count": null,
            "_view_module": "@jupyter-widgets/base",
            "_view_module_version": "1.2.0",
            "_view_name": "StyleView",
            "description_width": ""
          }
        }
      }
    }
  },
  "cells": [
    {
      "cell_type": "markdown",
      "metadata": {
        "id": "view-in-github",
        "colab_type": "text"
      },
      "source": [
        "<a href=\"https://colab.research.google.com/github/sofiaarosa/HuggingFaceNLPCourse/blob/main/02HFTransformers.ipynb\" target=\"_parent\"><img src=\"https://colab.research.google.com/assets/colab-badge.svg\" alt=\"Open In Colab\"/></a>"
      ]
    },
    {
      "cell_type": "markdown",
      "source": [
        "# Biblioteca Transformers Hugging Face\n",
        "**Curso PLN Hugging Face**\n",
        "\n",
        "O pytorch foi o escolhido para a implementação e anotações dos módulos do curso do Hugging Face.\n"
      ],
      "metadata": {
        "id": "hDaH0ybc1MRP"
      }
    },
    {
      "cell_type": "code",
      "source": [
        "!pip install datasets evaluate transformers[sentencepiece]"
      ],
      "metadata": {
        "id": "n4PdZRhzJ-OC"
      },
      "execution_count": null,
      "outputs": []
    },
    {
      "cell_type": "markdown",
      "source": [
        "## Função `pipeline()`\n",
        "\n"
      ],
      "metadata": {
        "id": "UqevPOnd14ht"
      }
    },
    {
      "cell_type": "code",
      "execution_count": 4,
      "metadata": {
        "colab": {
          "base_uri": "https://localhost:8080/"
        },
        "id": "aGZ5e3fy1Ehz",
        "outputId": "106d5ed8-d99a-4ea8-faa8-3ed4409bac3f"
      },
      "outputs": [
        {
          "output_type": "stream",
          "name": "stderr",
          "text": [
            "No model was supplied, defaulted to distilbert/distilbert-base-uncased-finetuned-sst-2-english and revision af0f99b (https://huggingface.co/distilbert/distilbert-base-uncased-finetuned-sst-2-english).\n",
            "Using a pipeline without specifying a model name and revision in production is not recommended.\n"
          ]
        }
      ],
      "source": [
        "from transformers import pipeline\n",
        "\n",
        "classifier = pipeline(\"sentiment-analysis\")"
      ]
    },
    {
      "cell_type": "code",
      "source": [
        "classifier(\n",
        "    [\n",
        "        \"I've been waiting for a HuggingFace course my whole life.\",\n",
        "        \"I hate this so much!\",\n",
        "    ]\n",
        ")"
      ],
      "metadata": {
        "colab": {
          "base_uri": "https://localhost:8080/"
        },
        "id": "8jO5PWV5LnY8",
        "outputId": "b9a974fb-8117-4f84-a0dc-56f6401a5443"
      },
      "execution_count": 5,
      "outputs": [
        {
          "output_type": "execute_result",
          "data": {
            "text/plain": [
              "[{'label': 'POSITIVE', 'score': 0.9598048329353333},\n",
              " {'label': 'NEGATIVE', 'score': 0.9994558691978455}]"
            ]
          },
          "metadata": {},
          "execution_count": 5
        }
      ]
    },
    {
      "cell_type": "markdown",
      "source": [
        "A função `pipeline()` agrupa o pré processamento, passagem das entradas através do modelo e o pós processamento.  \n",
        "\n",
        "Quando a função é utilizada em seu *core*, nada do que será trabalhado nesse notebook precisará ser feito, pois a função possibilita que os Transformers sejam utilizados em alto nível. Porém, é interessante entender o processo por trás para personalizar a experiência da utilização da biblioteca.\n"
      ],
      "metadata": {
        "id": "bJkyVN_zMyH7"
      }
    },
    {
      "cell_type": "markdown",
      "source": [
        "### Pré Processamento\n",
        "Mapear a entrada para alguma forma que o modelo possa entender. Isso inclui a tokenização, criação de embeddings para cada token da frase e a adição de entradas adicionais\n",
        "\n",
        "Todo o pré processamento precisa seguir a forma como o modelo utilizado foi pré treinado - precisamos utilizar o mesmo tokenizer. Após obtermos o tokenizer, o utilizaremos para adicionar um dicionário ao modelo e, por fim, transformar esse dicionário em Tensores."
      ],
      "metadata": {
        "id": "jeKGmI5CNP0z"
      }
    },
    {
      "cell_type": "code",
      "source": [
        "# obtenção do tokenizer do modelo default\n",
        "\n",
        "from transformers import AutoTokenizer\n",
        "\n",
        "checkpoint = \"distilbert-base-uncased-finetuned-sst-2-english\"\n",
        "tokenizer = AutoTokenizer.from_pretrained(checkpoint)"
      ],
      "metadata": {
        "colab": {
          "base_uri": "https://localhost:8080/",
          "height": 272,
          "referenced_widgets": [
            "183ed06bde0a49f7b67c1d962d62ae32",
            "f7661d8eb58a490688e7eafa1f43a85e",
            "ce3692849a6240b8a480b58017f4ca88",
            "9b2ecf022fd44bd4b7e67495a411652d",
            "4f2a0b3096e740d4bba027417f1cdc8d",
            "d2c1789f0feb44d0824e511c434e0c31",
            "12c7d6fae8f648f0ae26154e33bc81df",
            "d8bc3960e0a544b6aaa500a36f09a8ca",
            "0dd4c372f3b0442fae63ca339c91672c",
            "f793f164607a47dca11c4b43de55ad1c",
            "3102bb2879c44298b8c215a6e770f7e4",
            "e1fa48727a5847f4b826815738d9b7ac",
            "c57cbf9ce6ce4e8ab36071a56528cac8",
            "80cfd5a928914bb788dae8ab2c986803",
            "ed1e93209e204a4d928cb2f896d6482b",
            "bc2fc00018614e088637a85c0a2af62c",
            "4ed4e7595d2c4c6c9f2d6fd1e2dbf5cb",
            "da1ef81dbbb0439eaf2b26ea067a87af",
            "395bcb67d0e548ae8e5e5ed12738110c",
            "5c8da9ec3675466dbb4dff593f2e9168",
            "b761b10767194c318c7d85ddfbe71b5b",
            "936131d173144251ac8650cdffe43b11",
            "11f418deb3da4d5c86081839b002921c",
            "806b1d888c5e46dcb09c370a436ce346",
            "8c61225d9f9c43cbb962371a88da1692",
            "78629482feb64ed7afd4c055f3f00356",
            "7a6ec4e31d23423a999d8086b51aa8d9",
            "69c839c1f8b540ddb35dbf634443c3c8",
            "cdeb0b408eb2465c96233f8c760a30d7",
            "525b6835d0e241c88bbbe0225587eeeb",
            "83d3297651234ade86bc5cbc78059eee",
            "892d8efbdcc345378477089600ed6573",
            "d2113cfc4e9741c98c84ce7d7c725dbc"
          ]
        },
        "id": "7j8U2lElLxU-",
        "outputId": "0c79bd96-c790-4875-e508-85e254cc5308"
      },
      "execution_count": 1,
      "outputs": [
        {
          "output_type": "stream",
          "name": "stderr",
          "text": [
            "/usr/local/lib/python3.10/dist-packages/huggingface_hub/utils/_token.py:89: UserWarning: \n",
            "The secret `HF_TOKEN` does not exist in your Colab secrets.\n",
            "To authenticate with the Hugging Face Hub, create a token in your settings tab (https://huggingface.co/settings/tokens), set it as secret in your Google Colab and restart your session.\n",
            "You will be able to reuse this secret in all of your notebooks.\n",
            "Please note that authentication is recommended but still optional to access public models or datasets.\n",
            "  warnings.warn(\n"
          ]
        },
        {
          "output_type": "display_data",
          "data": {
            "text/plain": [
              "tokenizer_config.json:   0%|          | 0.00/48.0 [00:00<?, ?B/s]"
            ],
            "application/vnd.jupyter.widget-view+json": {
              "version_major": 2,
              "version_minor": 0,
              "model_id": "183ed06bde0a49f7b67c1d962d62ae32"
            }
          },
          "metadata": {}
        },
        {
          "output_type": "stream",
          "name": "stderr",
          "text": [
            "/usr/local/lib/python3.10/dist-packages/huggingface_hub/file_download.py:1132: FutureWarning: `resume_download` is deprecated and will be removed in version 1.0.0. Downloads always resume when possible. If you want to force a new download, use `force_download=True`.\n",
            "  warnings.warn(\n"
          ]
        },
        {
          "output_type": "display_data",
          "data": {
            "text/plain": [
              "config.json:   0%|          | 0.00/629 [00:00<?, ?B/s]"
            ],
            "application/vnd.jupyter.widget-view+json": {
              "version_major": 2,
              "version_minor": 0,
              "model_id": "e1fa48727a5847f4b826815738d9b7ac"
            }
          },
          "metadata": {}
        },
        {
          "output_type": "display_data",
          "data": {
            "text/plain": [
              "vocab.txt:   0%|          | 0.00/232k [00:00<?, ?B/s]"
            ],
            "application/vnd.jupyter.widget-view+json": {
              "version_major": 2,
              "version_minor": 0,
              "model_id": "11f418deb3da4d5c86081839b002921c"
            }
          },
          "metadata": {}
        }
      ]
    },
    {
      "cell_type": "code",
      "source": [
        "raw_inputs = [\n",
        "    \"I've been waiting for a HuggingFace course my whole life.\",\n",
        "    \"I hate this so much!\",\n",
        "    \"This course is amazing!\"\n",
        "]\n",
        "\n",
        "# obtenção dos tensores que representam os identificadores de cada token\n",
        "\n",
        "inputs = tokenizer(raw_inputs, padding=True, truncation=True, return_tensors=\"pt\")\n",
        "print(inputs)"
      ],
      "metadata": {
        "colab": {
          "base_uri": "https://localhost:8080/"
        },
        "id": "FCDx_MfhOViX",
        "outputId": "f28b65a0-2c2b-4111-a050-cdebcf5b6fde"
      },
      "execution_count": 13,
      "outputs": [
        {
          "output_type": "stream",
          "name": "stdout",
          "text": [
            "{'input_ids': tensor([[  101,  1045,  1005,  2310,  2042,  3403,  2005,  1037, 17662, 12172,\n",
            "          2607,  2026,  2878,  2166,  1012,   102],\n",
            "        [  101,  1045,  5223,  2023,  2061,  2172,   999,   102,     0,     0,\n",
            "             0,     0,     0,     0,     0,     0],\n",
            "        [  101,  2023,  2607,  2003,  6429,   999,   102,     0,     0,     0,\n",
            "             0,     0,     0,     0,     0,     0]]), 'attention_mask': tensor([[1, 1, 1, 1, 1, 1, 1, 1, 1, 1, 1, 1, 1, 1, 1, 1],\n",
            "        [1, 1, 1, 1, 1, 1, 1, 1, 0, 0, 0, 0, 0, 0, 0, 0],\n",
            "        [1, 1, 1, 1, 1, 1, 1, 0, 0, 0, 0, 0, 0, 0, 0, 0]])}\n"
          ]
        }
      ]
    },
    {
      "cell_type": "markdown",
      "source": [
        "#### Aprofundando nos tokenizers\n",
        "\n",
        "* A função `AutoTokenizer` carrega o tokenizer apropriado, dado um checkpoint (parâmetros de um modelo transformer).\n",
        "\n",
        "* É possível carregar o tokenizer específico de um determinado modelo, por exemplo `BertTokenizer` e específico de um checkpoint, com o método `from_pretreined()`.\n",
        "\n",
        "* Tokenization = transformar uma frase numa lista de strings (tokens) do vocabulário do tokenizer\n",
        "\n",
        "* Em seguida, é preciso converter tokens em ids numéricos que os representem no vocabulário\n",
        "\n",
        "* Podemos realizar o *Decoding*, que é transformar um conjunto de índices de vocabulário em uma frase"
      ],
      "metadata": {
        "id": "0QIo2QsbpLyY"
      }
    },
    {
      "cell_type": "code",
      "source": [
        "from transformers import BertTokenizer\n",
        "bTokenizer = BertTokenizer.from_pretrained(checkpoint)\n",
        "\n",
        "sequence = \"This course is amazing!\"\n",
        "tokens = bTokenizer.tokenize(sequence)\n",
        "ids = bTokenizer.convert_tokens_to_ids(tokens)\n",
        "\n",
        "print(tokens)\n",
        "print(ids)"
      ],
      "metadata": {
        "colab": {
          "base_uri": "https://localhost:8080/"
        },
        "id": "-lWBsmlasdCx",
        "outputId": "04e0ef85-2824-46db-ca2d-11a22e8e7fde"
      },
      "execution_count": 7,
      "outputs": [
        {
          "output_type": "stream",
          "name": "stderr",
          "text": [
            "The tokenizer class you load from this checkpoint is not the same type as the class this function is called from. It may result in unexpected tokenization. \n",
            "The tokenizer class you load from this checkpoint is 'DistilBertTokenizer'. \n",
            "The class this function is called from is 'BertTokenizer'.\n"
          ]
        },
        {
          "output_type": "stream",
          "name": "stdout",
          "text": [
            "['this', 'course', 'is', 'amazing', '!']\n",
            "[2023, 2607, 2003, 6429, 999]\n"
          ]
        }
      ]
    },
    {
      "cell_type": "markdown",
      "source": [
        "#### Tensores\n",
        "Os modelos esperam sempre uma lista de frases. Por isso é importante que os tensores enviados sejam uma matriz.\n",
        "\n",
        "\n",
        "\n",
        "```\n",
        "errado = tensor([  101,  1045,  1005,  2310,  2042, 3403,  2005,  1037, 17662, 12172, 2607,  2026,  2878,  2166,  1012,   102])\n",
        "\n",
        "certo = tensor([[  101,  1045,  1005,  2310,  2042,  3403,  2005,  1037, 17662, 12172, 2607,  2026,  2878,  2166,  1012,   102]])\n",
        "\n",
        "```\n",
        "\n",
        "\n",
        "\n",
        "Os tensores são matrizes e, para serem passados para os modelos, devem ser ***retangulares***, ou seja, as frases de uma lista devem ter o mesmo tamanho. Em casos de frases com quantidade de tokens distintos, é adicionado uma palavra especial (chamada de padding token) nas frases menores. No exemplo das três frases, é possível observar que as duas últimas frases, mais curtas, são acrescidas de tokens `0`, para deixá-las do mesmo tamanho da primeira frase.\n",
        "\n",
        "O `tokenizer` realiza todas essas operações de ajuste para o modelo automaticamente."
      ],
      "metadata": {
        "id": "wYULmh97ItPZ"
      }
    },
    {
      "cell_type": "markdown",
      "source": [
        "### Passando a entrada pelo modelo\n",
        "\n",
        "Primeiramente, é importante obter o modelo pré treinado.\n",
        "\n",
        "O módulo base do Transformer utilizado pelos modelos produz os chamados hidden states, que são vetores de alta dimensionalidade que representam a compreensão contextual da entrada pelo Transformer.\n",
        "\n",
        "Os hidden states são passados para outra parte do modelo, a cabeça (head).\n",
        "\n",
        "No final, o modelo fica composto pela rede neural Transformer e a(s) cabeça(s) do modelo.\n",
        "\n",
        "![imagem_2024-07-09_191106362.png](data:image/png;base64,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)\n",
        "\n",
        "O output do módulo básico do transformer é de ***alta dimensionalidade***. Esse output é recebido pela head do modelo e é transformada num vetor de baixa dimensionalidade - um por cada label."
      ],
      "metadata": {
        "id": "oP22Cf__iHu2"
      }
    },
    {
      "cell_type": "markdown",
      "source": [
        "Primeiramente, iremos baixar o modelo pré-treinado da mesma forma como foi feito com o tokenizer e alimentar os inputs pré processados para ele.\n",
        "\n",
        "Quando utilizamos a classe `AutoModel`, obtemos o modelo apenas com o módulo base Transformer.\n",
        "\n",
        "Quando utilizamos outras classes, como a `AutoModelForSequenceClassification`, obtemos o modelo com a head específica para a tarefa desejada - neste caso, Sequence Classification é a tarefa desejada para o pipeline \"sentiment-analysys\"."
      ],
      "metadata": {
        "id": "XRbnLMVsjX5y"
      }
    },
    {
      "cell_type": "code",
      "source": [
        "from transformers import AutoModel\n",
        "\n",
        "checkpoint = \"distilbert-base-uncased-finetuned-sst-2-english\"\n",
        "model = AutoModel.from_pretrained(checkpoint)\n",
        "outputs = model(**inputs)\n",
        "print(outputs.last_hidden_state.shape)"
      ],
      "metadata": {
        "colab": {
          "base_uri": "https://localhost:8080/"
        },
        "id": "SuxzbCa9jTEq",
        "outputId": "19e3f931-462b-4ff4-f6dd-946413f4c13c"
      },
      "execution_count": 14,
      "outputs": [
        {
          "output_type": "stream",
          "name": "stdout",
          "text": [
            "torch.Size([3, 16, 768])\n"
          ]
        }
      ]
    },
    {
      "cell_type": "code",
      "source": [
        "from transformers import AutoModelForSequenceClassification\n",
        "\n",
        "checkpoint = \"distilbert-base-uncased-finetuned-sst-2-english\"\n",
        "model = AutoModelForSequenceClassification.from_pretrained(checkpoint)\n",
        "outputs = model(**inputs)\n",
        "print(outputs.logits.shape)\n",
        "print(outputs.logits)"
      ],
      "metadata": {
        "colab": {
          "base_uri": "https://localhost:8080/"
        },
        "id": "dyprC8TRjj9O",
        "outputId": "ceb87ea1-2b8b-47d7-a492-0732eb0dead1"
      },
      "execution_count": 16,
      "outputs": [
        {
          "output_type": "stream",
          "name": "stdout",
          "text": [
            "torch.Size([3, 2])\n",
            "tensor([[-1.5607,  1.6123],\n",
            "        [ 4.1692, -3.3464],\n",
            "        [-4.3630,  4.6859]], grad_fn=<AddmmBackward0>)\n"
          ]
        }
      ]
    },
    {
      "cell_type": "markdown",
      "source": [
        "É importante destacar: os modelos transformer podem limitar o comprimento das sequências processadas."
      ],
      "metadata": {
        "id": "aBhHDl4wK_As"
      }
    },
    {
      "cell_type": "markdown",
      "source": [
        "### Pós-processamento da saída\n",
        "\n",
        "A saída do modelo transformer (composto pelo módulo básico do transformer e a head) é chamada de `logits`, que é a pontuação bruta da classificação. Para essa pontuação se tornar interpretável e também transformar essa pontuação em uma ***probabilidade***, ou seja, um número entre 0 ou 1 para cada uma das labels, os resultados passam por uma camada SoftMax."
      ],
      "metadata": {
        "id": "mRWFWkN4lofv"
      }
    },
    {
      "cell_type": "code",
      "source": [
        "import torch\n",
        "\n",
        "predictions = torch.nn.functional.softmax(outputs.logits, dim=-1)\n",
        "print(predictions)"
      ],
      "metadata": {
        "colab": {
          "base_uri": "https://localhost:8080/"
        },
        "id": "of_U_MXnkxk5",
        "outputId": "12f50868-9771-4659-a612-e1fc206c98ba"
      },
      "execution_count": 17,
      "outputs": [
        {
          "output_type": "stream",
          "name": "stdout",
          "text": [
            "tensor([[4.0195e-02, 9.5980e-01],\n",
            "        [9.9946e-01, 5.4418e-04],\n",
            "        [1.1750e-04, 9.9988e-01]], grad_fn=<SoftmaxBackward0>)\n"
          ]
        }
      ]
    },
    {
      "cell_type": "code",
      "source": [],
      "metadata": {
        "id": "HmIdwcnWmpPb"
      },
      "execution_count": null,
      "outputs": []
    }
  ]
}